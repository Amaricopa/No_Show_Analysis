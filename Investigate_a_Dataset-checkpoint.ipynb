{
 "cells": [
  {
   "cell_type": "markdown",
   "metadata": {},
   "source": [
    "# Project: Investigate a Dataset - No-Show Appointments\n",
    "\n",
    "## Table of Contents\n",
    "<ul>\n",
    "<li><a href=\"#intro\">Introduction</a></li>\n",
    "<li><a href=\"#wrangling\">Data Wrangling</a></li>\n",
    "<li><a href=\"#eda\">Exploratory Data Analysis</a></li>\n",
    "    <li><a href=\"#Q1\">Question 1</a></li>\n",
    "    <li><a href=\"#Q2\">Question 2</a></li>\n",
    "    <li><a href=\"#Q3\">Question 3</a></li>\n",
    "    <li><a href=\"#Q4\">Question 4</a></li>\n",
    "<li><a href=\"#conclusions\">Conclusions</a></li>\n",
    "</ul>"
   ]
  },
  {
   "cell_type": "markdown",
   "metadata": {},
   "source": [
    "<a id='intro'></a>\n",
    "## Introduction\n",
    "\n",
    "### Dataset Description \n",
    "\n",
    "\n",
    "This report will explore the No-Show Appointment dataset. This dataset is a history of health care appointments, and it includes the following data:\n",
    "<ul>\n",
    "    <li>PatientId: each patient's ID</li>\n",
    "    <li>AppointmentId: a unique ID for each appointment</li>\n",
    "    <li>Gender: the patient's gender</li>\n",
    "    <li>ScheduledDay: the date and time the patient requested an appointment</li>\n",
    "    <li>AppointmentDay: the date and time of the scheduled appointment</li>\n",
    "    <li>Age: The patient's age</li>\n",
    "    <li>Neighbourhood: the location of the hospital</li>\n",
    "    <li>Scholarship: whether the patient is enrolled in welfare</li>\n",
    "    <li>Hipertension: 1: has hypertension. 0: does not have hypertension</li>\n",
    "    <li>Diabetes: 1: has diabetes. 0: does not have diabetes</li>\n",
    "    <li>Alcoholism: 1: is alcoholic. 0: is not alcoholic</li>\n",
    "    <li>Handicap: 1: has a handicap. 0: does not have a handicap</li>\n",
    "    <li>SMS_received: whether the patient received an SMS message</li>\n",
    "    <li>No-show: Yes: did not attend. No: did attend</li>\n",
    "</ul>\n",
    "\n",
    "\n",
    "### Question(s) for Analysis\n",
    "\n",
    "</ul>\n",
    "    <li><a href=\"#Q1\">Question 1</a>: At which hospitals are patients most likely to miss their appointment?</li>\n",
    "    <li><a href=\"#Q2\">Question 2</a>: Are any of the documented conditions (hypertension, diabetes, alcoholism, and handicap) more likely to result in a missed appointment?</li>\n",
    "    <li><a href=\"#Q3\">Question 3</a>: Are patients more likely to miss appointments if they schedule too far in advance?\n",
    "    <li><a href=\"#Q4\">Question 4</a>: How effective are SMS reminders at reducing missed appointments?</li>\n",
    "</ul>"
   ]
  },
  {
   "cell_type": "code",
   "execution_count": 1,
   "metadata": {},
   "outputs": [],
   "source": [
    "import pandas as pd\n",
    "import matplotlib.pyplot as plt\n",
    "import numpy as np\n"
   ]
  },
  {
   "cell_type": "markdown",
   "metadata": {},
   "source": [
    "<a id='wrangling'></a>\n",
    "## Data Wrangling\n",
    "\n",
    "### General Properties\n",
    "\n",
    "This data still needs to be cleaned. Some columns should be renamed, some data types should be switched, and the integrity of some columns should be verified. Here are my specific recommendations:\n",
    "\n",
    "<h4>Observation 1:</h4> The 'Hipertension' and 'Handcap' columns do not follow typical English spelling conventions; renaming them might reduce dissonance for readers. The 'Neighbourhood' heading does not follow typical American english spelling, but I can work with that.\n",
    "\n",
    "<h4>Observation 2:</h4> PatientId appears to be a 'float' datatype with an excessive amount of digits. In addition, the number of digits in an ID seems to vary. The source of the data (https://www.kaggle.com/datasets/joniarroba/noshowappointments) does not say how patient IDs are generated; without that information, I would have to guess how long a patient ID is supposed to be and then make some guesses about how to correct them. That's a lot of guesswork. Since the questions I intend to answer do not involve the PatientId, this column will not be cleaned.\n",
    "\n",
    "<h4>Observation 3:</h4> The 'Scholarship,' 'Hipertension,' 'Diabetes,' 'Alcoholism,' and 'Handcap' fields all hold binary data, but are int data types instead of boolean. These can be left as 'int' datatypes; 'int' is easy to work with, but they should be inspected to ensure that all values are either '0' and '1', which translate to 'false' and 'true,' respectively.\n",
    "\n",
    "<h4> Observation 4:</h4> The column 'No-show' is going to cause problems by using a dash instead of an underscore. It must be corrected to \"no_show\".\n",
    "\n",
    "<h4>Observation 5:</h4> The 'ScheduledDay' and 'AppointmentDay' columns are string data types; these should be converted to datetime types to make it easier to extract data from them."
   ]
  },
  {
   "cell_type": "markdown",
   "metadata": {},
   "source": [
    "Let me show you how I made these observations. First, I looked at the first few lines of the dataframe to note what kind of data is available and to review spelling."
   ]
  },
  {
   "cell_type": "code",
   "execution_count": 2,
   "metadata": {
    "scrolled": true
   },
   "outputs": [
    {
     "data": {
      "text/html": [
       "<div>\n",
       "<style scoped>\n",
       "    .dataframe tbody tr th:only-of-type {\n",
       "        vertical-align: middle;\n",
       "    }\n",
       "\n",
       "    .dataframe tbody tr th {\n",
       "        vertical-align: top;\n",
       "    }\n",
       "\n",
       "    .dataframe thead th {\n",
       "        text-align: right;\n",
       "    }\n",
       "</style>\n",
       "<table border=\"1\" class=\"dataframe\">\n",
       "  <thead>\n",
       "    <tr style=\"text-align: right;\">\n",
       "      <th></th>\n",
       "      <th>PatientId</th>\n",
       "      <th>AppointmentID</th>\n",
       "      <th>Gender</th>\n",
       "      <th>ScheduledDay</th>\n",
       "      <th>AppointmentDay</th>\n",
       "      <th>Age</th>\n",
       "      <th>Neighbourhood</th>\n",
       "      <th>Scholarship</th>\n",
       "      <th>Hipertension</th>\n",
       "      <th>Diabetes</th>\n",
       "      <th>Alcoholism</th>\n",
       "      <th>Handcap</th>\n",
       "      <th>SMS_received</th>\n",
       "      <th>No-show</th>\n",
       "    </tr>\n",
       "  </thead>\n",
       "  <tbody>\n",
       "    <tr>\n",
       "      <th>0</th>\n",
       "      <td>2.987250e+13</td>\n",
       "      <td>5642903</td>\n",
       "      <td>F</td>\n",
       "      <td>2016-04-29T18:38:08Z</td>\n",
       "      <td>2016-04-29T00:00:00Z</td>\n",
       "      <td>62</td>\n",
       "      <td>JARDIM DA PENHA</td>\n",
       "      <td>0</td>\n",
       "      <td>1</td>\n",
       "      <td>0</td>\n",
       "      <td>0</td>\n",
       "      <td>0</td>\n",
       "      <td>0</td>\n",
       "      <td>No</td>\n",
       "    </tr>\n",
       "    <tr>\n",
       "      <th>1</th>\n",
       "      <td>5.589978e+14</td>\n",
       "      <td>5642503</td>\n",
       "      <td>M</td>\n",
       "      <td>2016-04-29T16:08:27Z</td>\n",
       "      <td>2016-04-29T00:00:00Z</td>\n",
       "      <td>56</td>\n",
       "      <td>JARDIM DA PENHA</td>\n",
       "      <td>0</td>\n",
       "      <td>0</td>\n",
       "      <td>0</td>\n",
       "      <td>0</td>\n",
       "      <td>0</td>\n",
       "      <td>0</td>\n",
       "      <td>No</td>\n",
       "    </tr>\n",
       "    <tr>\n",
       "      <th>2</th>\n",
       "      <td>4.262962e+12</td>\n",
       "      <td>5642549</td>\n",
       "      <td>F</td>\n",
       "      <td>2016-04-29T16:19:04Z</td>\n",
       "      <td>2016-04-29T00:00:00Z</td>\n",
       "      <td>62</td>\n",
       "      <td>MATA DA PRAIA</td>\n",
       "      <td>0</td>\n",
       "      <td>0</td>\n",
       "      <td>0</td>\n",
       "      <td>0</td>\n",
       "      <td>0</td>\n",
       "      <td>0</td>\n",
       "      <td>No</td>\n",
       "    </tr>\n",
       "    <tr>\n",
       "      <th>3</th>\n",
       "      <td>8.679512e+11</td>\n",
       "      <td>5642828</td>\n",
       "      <td>F</td>\n",
       "      <td>2016-04-29T17:29:31Z</td>\n",
       "      <td>2016-04-29T00:00:00Z</td>\n",
       "      <td>8</td>\n",
       "      <td>PONTAL DE CAMBURI</td>\n",
       "      <td>0</td>\n",
       "      <td>0</td>\n",
       "      <td>0</td>\n",
       "      <td>0</td>\n",
       "      <td>0</td>\n",
       "      <td>0</td>\n",
       "      <td>No</td>\n",
       "    </tr>\n",
       "    <tr>\n",
       "      <th>4</th>\n",
       "      <td>8.841186e+12</td>\n",
       "      <td>5642494</td>\n",
       "      <td>F</td>\n",
       "      <td>2016-04-29T16:07:23Z</td>\n",
       "      <td>2016-04-29T00:00:00Z</td>\n",
       "      <td>56</td>\n",
       "      <td>JARDIM DA PENHA</td>\n",
       "      <td>0</td>\n",
       "      <td>1</td>\n",
       "      <td>1</td>\n",
       "      <td>0</td>\n",
       "      <td>0</td>\n",
       "      <td>0</td>\n",
       "      <td>No</td>\n",
       "    </tr>\n",
       "  </tbody>\n",
       "</table>\n",
       "</div>"
      ],
      "text/plain": [
       "      PatientId  AppointmentID Gender          ScheduledDay  \\\n",
       "0  2.987250e+13        5642903      F  2016-04-29T18:38:08Z   \n",
       "1  5.589978e+14        5642503      M  2016-04-29T16:08:27Z   \n",
       "2  4.262962e+12        5642549      F  2016-04-29T16:19:04Z   \n",
       "3  8.679512e+11        5642828      F  2016-04-29T17:29:31Z   \n",
       "4  8.841186e+12        5642494      F  2016-04-29T16:07:23Z   \n",
       "\n",
       "         AppointmentDay  Age      Neighbourhood  Scholarship  Hipertension  \\\n",
       "0  2016-04-29T00:00:00Z   62    JARDIM DA PENHA            0             1   \n",
       "1  2016-04-29T00:00:00Z   56    JARDIM DA PENHA            0             0   \n",
       "2  2016-04-29T00:00:00Z   62      MATA DA PRAIA            0             0   \n",
       "3  2016-04-29T00:00:00Z    8  PONTAL DE CAMBURI            0             0   \n",
       "4  2016-04-29T00:00:00Z   56    JARDIM DA PENHA            0             1   \n",
       "\n",
       "   Diabetes  Alcoholism  Handcap  SMS_received No-show  \n",
       "0         0           0        0             0      No  \n",
       "1         0           0        0             0      No  \n",
       "2         0           0        0             0      No  \n",
       "3         0           0        0             0      No  \n",
       "4         1           0        0             0      No  "
      ]
     },
     "execution_count": 2,
     "metadata": {},
     "output_type": "execute_result"
    }
   ],
   "source": [
    "df = pd.read_csv('noshows.csv')\n",
    "df.head()"
   ]
  },
  {
   "cell_type": "markdown",
   "metadata": {},
   "source": [
    "Next, I looked for null values. There are none in this data set."
   ]
  },
  {
   "cell_type": "code",
   "execution_count": 3,
   "metadata": {},
   "outputs": [
    {
     "data": {
      "text/plain": [
       "PatientId         0\n",
       "AppointmentID     0\n",
       "Gender            0\n",
       "ScheduledDay      0\n",
       "AppointmentDay    0\n",
       "Age               0\n",
       "Neighbourhood     0\n",
       "Scholarship       0\n",
       "Hipertension      0\n",
       "Diabetes          0\n",
       "Alcoholism        0\n",
       "Handcap           0\n",
       "SMS_received      0\n",
       "No-show           0\n",
       "dtype: int64"
      ]
     },
     "execution_count": 3,
     "metadata": {},
     "output_type": "execute_result"
    }
   ],
   "source": [
    "df.isnull().sum()"
   ]
  },
  {
   "cell_type": "markdown",
   "metadata": {},
   "source": [
    "Next, I looked at the data types and noted the ones that will need to be changed."
   ]
  },
  {
   "cell_type": "code",
   "execution_count": 4,
   "metadata": {},
   "outputs": [
    {
     "data": {
      "text/plain": [
       "PatientId         float64\n",
       "AppointmentID       int64\n",
       "Gender             object\n",
       "ScheduledDay       object\n",
       "AppointmentDay     object\n",
       "Age                 int64\n",
       "Neighbourhood      object\n",
       "Scholarship         int64\n",
       "Hipertension        int64\n",
       "Diabetes            int64\n",
       "Alcoholism          int64\n",
       "Handcap             int64\n",
       "SMS_received        int64\n",
       "No-show            object\n",
       "dtype: object"
      ]
     },
     "execution_count": 4,
     "metadata": {},
     "output_type": "execute_result"
    }
   ],
   "source": [
    "df.dtypes"
   ]
  },
  {
   "cell_type": "markdown",
   "metadata": {},
   "source": [
    "Next, I looked for duplicate rows, but found none."
   ]
  },
  {
   "cell_type": "code",
   "execution_count": 5,
   "metadata": {},
   "outputs": [
    {
     "data": {
      "text/plain": [
       "0"
      ]
     },
     "execution_count": 5,
     "metadata": {},
     "output_type": "execute_result"
    }
   ],
   "source": [
    "df.duplicated().sum()"
   ]
  },
  {
   "cell_type": "markdown",
   "metadata": {},
   "source": [
    "The last part of my initial inspection was to look at an overview of the data using the 'info' function, just to see if I had missed anything. I didn't see any other problems at the time."
   ]
  },
  {
   "cell_type": "code",
   "execution_count": 6,
   "metadata": {},
   "outputs": [
    {
     "name": "stdout",
     "output_type": "stream",
     "text": [
      "<class 'pandas.core.frame.DataFrame'>\n",
      "RangeIndex: 110527 entries, 0 to 110526\n",
      "Data columns (total 14 columns):\n",
      " #   Column          Non-Null Count   Dtype  \n",
      "---  ------          --------------   -----  \n",
      " 0   PatientId       110527 non-null  float64\n",
      " 1   AppointmentID   110527 non-null  int64  \n",
      " 2   Gender          110527 non-null  object \n",
      " 3   ScheduledDay    110527 non-null  object \n",
      " 4   AppointmentDay  110527 non-null  object \n",
      " 5   Age             110527 non-null  int64  \n",
      " 6   Neighbourhood   110527 non-null  object \n",
      " 7   Scholarship     110527 non-null  int64  \n",
      " 8   Hipertension    110527 non-null  int64  \n",
      " 9   Diabetes        110527 non-null  int64  \n",
      " 10  Alcoholism      110527 non-null  int64  \n",
      " 11  Handcap         110527 non-null  int64  \n",
      " 12  SMS_received    110527 non-null  int64  \n",
      " 13  No-show         110527 non-null  object \n",
      "dtypes: float64(1), int64(8), object(5)\n",
      "memory usage: 11.8+ MB\n"
     ]
    }
   ],
   "source": [
    "df.info()"
   ]
  },
  {
   "cell_type": "markdown",
   "metadata": {},
   "source": [
    "\n",
    "### Data Cleaning\n",
    " \n",
    " Now that I've noted some issues with the dataset, I'll take the following data cleaning steps:\n",
    " <ul>\n",
    "    <li>Rename misspelled columns</li>\n",
    "    <li>Verify that 'Scholarship,' 'Hypertension,' 'Diabetes,' 'Alcoholism,' 'Handicap,' and 'no_show' values are binary</li>\n",
    "    <li>Convert ScheduledDay and AppointmentDay from strings to datetime data types </li>\n",
    " </ul>"
   ]
  },
  {
   "cell_type": "markdown",
   "metadata": {},
   "source": [
    "<h4>Task 1:</h4> Rename Hipertension, Handcap, and No-Show columns"
   ]
  },
  {
   "cell_type": "code",
   "execution_count": 7,
   "metadata": {},
   "outputs": [
    {
     "data": {
      "text/html": [
       "<div>\n",
       "<style scoped>\n",
       "    .dataframe tbody tr th:only-of-type {\n",
       "        vertical-align: middle;\n",
       "    }\n",
       "\n",
       "    .dataframe tbody tr th {\n",
       "        vertical-align: top;\n",
       "    }\n",
       "\n",
       "    .dataframe thead th {\n",
       "        text-align: right;\n",
       "    }\n",
       "</style>\n",
       "<table border=\"1\" class=\"dataframe\">\n",
       "  <thead>\n",
       "    <tr style=\"text-align: right;\">\n",
       "      <th></th>\n",
       "      <th>PatientId</th>\n",
       "      <th>AppointmentID</th>\n",
       "      <th>Gender</th>\n",
       "      <th>ScheduledDay</th>\n",
       "      <th>AppointmentDay</th>\n",
       "      <th>Age</th>\n",
       "      <th>Neighbourhood</th>\n",
       "      <th>Scholarship</th>\n",
       "      <th>Hypertension</th>\n",
       "      <th>Diabetes</th>\n",
       "      <th>Alcoholism</th>\n",
       "      <th>Handicap</th>\n",
       "      <th>SMS_received</th>\n",
       "      <th>no_show</th>\n",
       "    </tr>\n",
       "  </thead>\n",
       "  <tbody>\n",
       "    <tr>\n",
       "      <th>0</th>\n",
       "      <td>2.987250e+13</td>\n",
       "      <td>5642903</td>\n",
       "      <td>F</td>\n",
       "      <td>2016-04-29T18:38:08Z</td>\n",
       "      <td>2016-04-29T00:00:00Z</td>\n",
       "      <td>62</td>\n",
       "      <td>JARDIM DA PENHA</td>\n",
       "      <td>0</td>\n",
       "      <td>1</td>\n",
       "      <td>0</td>\n",
       "      <td>0</td>\n",
       "      <td>0</td>\n",
       "      <td>0</td>\n",
       "      <td>No</td>\n",
       "    </tr>\n",
       "  </tbody>\n",
       "</table>\n",
       "</div>"
      ],
      "text/plain": [
       "      PatientId  AppointmentID Gender          ScheduledDay  \\\n",
       "0  2.987250e+13        5642903      F  2016-04-29T18:38:08Z   \n",
       "\n",
       "         AppointmentDay  Age    Neighbourhood  Scholarship  Hypertension  \\\n",
       "0  2016-04-29T00:00:00Z   62  JARDIM DA PENHA            0             1   \n",
       "\n",
       "   Diabetes  Alcoholism  Handicap  SMS_received no_show  \n",
       "0         0           0         0             0      No  "
      ]
     },
     "execution_count": 7,
     "metadata": {},
     "output_type": "execute_result"
    }
   ],
   "source": [
    "df.rename(columns={\"Hipertension\": \"Hypertension\", \"Handcap\": \"Handicap\", \"No-show\": \"no_show\"}, inplace=True)\n",
    "df.head(1)"
   ]
  },
  {
   "cell_type": "markdown",
   "metadata": {},
   "source": [
    "<h4>Task 2:</h4> Verify that 'Scholarship,' 'Hypertension,' 'Diabetes,' 'Alcoholism,' 'Handicap,' and 'no_show' values are binary"
   ]
  },
  {
   "cell_type": "code",
   "execution_count": 8,
   "metadata": {},
   "outputs": [
    {
     "name": "stdout",
     "output_type": "stream",
     "text": [
      "Scholarship [0 1]\n",
      "Hypertension [1 0]\n",
      "Diabetes [0 1]\n",
      "Alcoholism [0 1]\n",
      "Handicap [0 1 2 3 4]\n",
      "no_show ['No' 'Yes']\n"
     ]
    }
   ],
   "source": [
    "print(\"Scholarship\", pd.unique(df['Scholarship']))\n",
    "print(\"Hypertension\", pd.unique(df['Hypertension']))\n",
    "print(\"Diabetes\", pd.unique(df['Diabetes']))\n",
    "print(\"Alcoholism\", pd.unique(df['Alcoholism']))\n",
    "print(\"Handicap\", pd.unique(df['Handicap']))\n",
    "print(\"no_show\", pd.unique(df['no_show']))"
   ]
  },
  {
   "cell_type": "markdown",
   "metadata": {},
   "source": [
    "All of these columns except for \"Handicap\" have only two unique entries, so they are binary. \"Handicap,\" on the other hand, has five unique values. The Kaggle source for this data confirms that Handicap is supposed to be binary. Lets count the number of anomalies in this series to see how much data is affected:"
   ]
  },
  {
   "cell_type": "code",
   "execution_count": 9,
   "metadata": {},
   "outputs": [
    {
     "data": {
      "text/plain": [
       "199"
      ]
     },
     "execution_count": 9,
     "metadata": {},
     "output_type": "execute_result"
    }
   ],
   "source": [
    "unq_num = df.query('Handicap in [2, 3, 4]').Handicap.count()\n",
    "unq_num"
   ]
  },
  {
   "cell_type": "code",
   "execution_count": 10,
   "metadata": {},
   "outputs": [
    {
     "data": {
      "text/html": [
       "<div>\n",
       "<style scoped>\n",
       "    .dataframe tbody tr th:only-of-type {\n",
       "        vertical-align: middle;\n",
       "    }\n",
       "\n",
       "    .dataframe tbody tr th {\n",
       "        vertical-align: top;\n",
       "    }\n",
       "\n",
       "    .dataframe thead th {\n",
       "        text-align: right;\n",
       "    }\n",
       "</style>\n",
       "<table border=\"1\" class=\"dataframe\">\n",
       "  <thead>\n",
       "    <tr style=\"text-align: right;\">\n",
       "      <th></th>\n",
       "      <th>PatientId</th>\n",
       "      <th>AppointmentID</th>\n",
       "      <th>Gender</th>\n",
       "      <th>ScheduledDay</th>\n",
       "      <th>AppointmentDay</th>\n",
       "      <th>Age</th>\n",
       "      <th>Neighbourhood</th>\n",
       "      <th>Scholarship</th>\n",
       "      <th>Hypertension</th>\n",
       "      <th>Diabetes</th>\n",
       "      <th>Alcoholism</th>\n",
       "      <th>Handicap</th>\n",
       "      <th>SMS_received</th>\n",
       "      <th>no_show</th>\n",
       "    </tr>\n",
       "  </thead>\n",
       "  <tbody>\n",
       "    <tr>\n",
       "      <th>91820</th>\n",
       "      <td>9.251878e+12</td>\n",
       "      <td>5789549</td>\n",
       "      <td>M</td>\n",
       "      <td>2016-06-08T15:14:00Z</td>\n",
       "      <td>2016-06-08T00:00:00Z</td>\n",
       "      <td>15</td>\n",
       "      <td>DA PENHA</td>\n",
       "      <td>0</td>\n",
       "      <td>0</td>\n",
       "      <td>0</td>\n",
       "      <td>0</td>\n",
       "      <td>4</td>\n",
       "      <td>0</td>\n",
       "      <td>No</td>\n",
       "    </tr>\n",
       "    <tr>\n",
       "      <th>98538</th>\n",
       "      <td>4.972463e+14</td>\n",
       "      <td>5760621</td>\n",
       "      <td>M</td>\n",
       "      <td>2016-06-01T15:11:25Z</td>\n",
       "      <td>2016-06-03T00:00:00Z</td>\n",
       "      <td>19</td>\n",
       "      <td>SÃO PEDRO</td>\n",
       "      <td>0</td>\n",
       "      <td>0</td>\n",
       "      <td>0</td>\n",
       "      <td>0</td>\n",
       "      <td>4</td>\n",
       "      <td>0</td>\n",
       "      <td>No</td>\n",
       "    </tr>\n",
       "    <tr>\n",
       "      <th>104268</th>\n",
       "      <td>7.581895e+14</td>\n",
       "      <td>5697136</td>\n",
       "      <td>F</td>\n",
       "      <td>2016-05-13T15:01:17Z</td>\n",
       "      <td>2016-06-02T00:00:00Z</td>\n",
       "      <td>9</td>\n",
       "      <td>ITARARÉ</td>\n",
       "      <td>0</td>\n",
       "      <td>0</td>\n",
       "      <td>0</td>\n",
       "      <td>0</td>\n",
       "      <td>4</td>\n",
       "      <td>1</td>\n",
       "      <td>Yes</td>\n",
       "    </tr>\n",
       "  </tbody>\n",
       "</table>\n",
       "</div>"
      ],
      "text/plain": [
       "           PatientId  AppointmentID Gender          ScheduledDay  \\\n",
       "91820   9.251878e+12        5789549      M  2016-06-08T15:14:00Z   \n",
       "98538   4.972463e+14        5760621      M  2016-06-01T15:11:25Z   \n",
       "104268  7.581895e+14        5697136      F  2016-05-13T15:01:17Z   \n",
       "\n",
       "              AppointmentDay  Age Neighbourhood  Scholarship  Hypertension  \\\n",
       "91820   2016-06-08T00:00:00Z   15      DA PENHA            0             0   \n",
       "98538   2016-06-03T00:00:00Z   19     SÃO PEDRO            0             0   \n",
       "104268  2016-06-02T00:00:00Z    9       ITARARÉ            0             0   \n",
       "\n",
       "        Diabetes  Alcoholism  Handicap  SMS_received no_show  \n",
       "91820          0           0         4             0      No  \n",
       "98538          0           0         4             0      No  \n",
       "104268         0           0         4             1     Yes  "
      ]
     },
     "execution_count": 10,
     "metadata": {},
     "output_type": "execute_result"
    }
   ],
   "source": [
    "df.query('Handicap == 4')"
   ]
  },
  {
   "cell_type": "markdown",
   "metadata": {},
   "source": [
    "There are 199 affected rows. Judging from the sample above, these are normal rows except for the Handicap field. I will interpret the presence of anything besides '0' to mean that the patient has a handicap. The simplest way to clean this column is to change it to a boolean type, which will, by default, process positive integers as 'True'."
   ]
  },
  {
   "cell_type": "code",
   "execution_count": 11,
   "metadata": {},
   "outputs": [
    {
     "data": {
      "text/html": [
       "<div>\n",
       "<style scoped>\n",
       "    .dataframe tbody tr th:only-of-type {\n",
       "        vertical-align: middle;\n",
       "    }\n",
       "\n",
       "    .dataframe tbody tr th {\n",
       "        vertical-align: top;\n",
       "    }\n",
       "\n",
       "    .dataframe thead th {\n",
       "        text-align: right;\n",
       "    }\n",
       "</style>\n",
       "<table border=\"1\" class=\"dataframe\">\n",
       "  <thead>\n",
       "    <tr style=\"text-align: right;\">\n",
       "      <th></th>\n",
       "      <th>PatientId</th>\n",
       "      <th>AppointmentID</th>\n",
       "      <th>Gender</th>\n",
       "      <th>ScheduledDay</th>\n",
       "      <th>AppointmentDay</th>\n",
       "      <th>Age</th>\n",
       "      <th>Neighbourhood</th>\n",
       "      <th>Scholarship</th>\n",
       "      <th>Hypertension</th>\n",
       "      <th>Diabetes</th>\n",
       "      <th>Alcoholism</th>\n",
       "      <th>Handicap</th>\n",
       "      <th>SMS_received</th>\n",
       "      <th>no_show</th>\n",
       "    </tr>\n",
       "  </thead>\n",
       "  <tbody>\n",
       "    <tr>\n",
       "      <th>91820</th>\n",
       "      <td>9.251878e+12</td>\n",
       "      <td>5789549</td>\n",
       "      <td>M</td>\n",
       "      <td>2016-06-08T15:14:00Z</td>\n",
       "      <td>2016-06-08T00:00:00Z</td>\n",
       "      <td>15</td>\n",
       "      <td>DA PENHA</td>\n",
       "      <td>0</td>\n",
       "      <td>0</td>\n",
       "      <td>0</td>\n",
       "      <td>0</td>\n",
       "      <td>True</td>\n",
       "      <td>0</td>\n",
       "      <td>No</td>\n",
       "    </tr>\n",
       "  </tbody>\n",
       "</table>\n",
       "</div>"
      ],
      "text/plain": [
       "          PatientId  AppointmentID Gender          ScheduledDay  \\\n",
       "91820  9.251878e+12        5789549      M  2016-06-08T15:14:00Z   \n",
       "\n",
       "             AppointmentDay  Age Neighbourhood  Scholarship  Hypertension  \\\n",
       "91820  2016-06-08T00:00:00Z   15      DA PENHA            0             0   \n",
       "\n",
       "       Diabetes  Alcoholism  Handicap  SMS_received no_show  \n",
       "91820         0           0      True             0      No  "
      ]
     },
     "execution_count": 11,
     "metadata": {},
     "output_type": "execute_result"
    }
   ],
   "source": [
    "df['Handicap'] = df['Handicap'].astype('bool')\n",
    "#Verify that the function worked on index 91820. The 'Handicap' field should now be 'True'\n",
    "df.query('index==91820')"
   ]
  },
  {
   "cell_type": "markdown",
   "metadata": {},
   "source": [
    "<h4>Task 3:</h4> Convert 'AppointmentID' and 'ScheduledDay' to datetime data types."
   ]
  },
  {
   "cell_type": "code",
   "execution_count": 12,
   "metadata": {},
   "outputs": [
    {
     "data": {
      "text/plain": [
       "PatientId                     float64\n",
       "AppointmentID                   int64\n",
       "Gender                         object\n",
       "ScheduledDay      datetime64[ns, UTC]\n",
       "AppointmentDay    datetime64[ns, UTC]\n",
       "Age                             int64\n",
       "Neighbourhood                  object\n",
       "Scholarship                     int64\n",
       "Hypertension                    int64\n",
       "Diabetes                        int64\n",
       "Alcoholism                      int64\n",
       "Handicap                         bool\n",
       "SMS_received                    int64\n",
       "no_show                        object\n",
       "dtype: object"
      ]
     },
     "execution_count": 12,
     "metadata": {},
     "output_type": "execute_result"
    }
   ],
   "source": [
    "df['ScheduledDay'] = pd.to_datetime(df['ScheduledDay'])\n",
    "df['AppointmentDay'] = pd.to_datetime(df['AppointmentDay'])\n",
    "#Verify transformations\n",
    "df.dtypes"
   ]
  },
  {
   "cell_type": "markdown",
   "metadata": {},
   "source": [
    "<a id='eda'></a>\n",
    "## Exploratory Data Analysis\n",
    "\n",
    "<a id='Q1'></a>\n",
    "### Research Question 1: At which hospitals are patients more likely to miss their appointments?"
   ]
  },
  {
   "cell_type": "markdown",
   "metadata": {},
   "source": [
    "My questions about this data are all centered around factors that might affect whether patients attend their appointments. First, it will be helpful to establish a baseline attendance rate to which we can compare various groups. What's the overall attendance rate?"
   ]
  },
  {
   "cell_type": "code",
   "execution_count": 13,
   "metadata": {},
   "outputs": [],
   "source": [
    "#Average = number who missed their appointments / total number of appointments\n",
    "#Number of missed appointments:\n",
    "missed_appts = df.query('no_show == \"Yes\"') #subset of appointments that were missed\n",
    "missed_appts_count = missed_appts.no_show.count() #total number of missed appointments"
   ]
  },
  {
   "cell_type": "code",
   "execution_count": 14,
   "metadata": {},
   "outputs": [
    {
     "data": {
      "text/plain": [
       "0.20193255946510807"
      ]
     },
     "execution_count": 14,
     "metadata": {},
     "output_type": "execute_result"
    }
   ],
   "source": [
    "total_appts = df.count().AppointmentID #total number of appointments scheduled\n",
    "missed_proportion = missed_appts_count / total_appts #the ratio of missed appointments to scheduled appointments\n",
    "missed_proportion"
   ]
  },
  {
   "cell_type": "markdown",
   "metadata": {},
   "source": [
    "So about 20% of appointments are missed.\n",
    "Lets try graphing that on a pie chart to get a clearer visual representation. First, we need the number of kept appointments:"
   ]
  },
  {
   "cell_type": "code",
   "execution_count": 15,
   "metadata": {},
   "outputs": [
    {
     "data": {
      "text/plain": [
       "88208"
      ]
     },
     "execution_count": 15,
     "metadata": {},
     "output_type": "execute_result"
    }
   ],
   "source": [
    "kept_appts = df.query('no_show == \"No\"') #subset of appointments that were attended\n",
    "kept_appts_count = kept_appts.no_show.count() #total number of appointments that were attended\n",
    "kept_appts_count #verifying that the result is an integer"
   ]
  },
  {
   "cell_type": "code",
   "execution_count": 16,
   "metadata": {},
   "outputs": [
    {
     "data": {
      "image/png": "[encoded data removed]",
      "text/plain": [
       "<Figure size 640x480 with 1 Axes>"
      ]
     },
     "metadata": {},
     "output_type": "display_data"
    }
   ],
   "source": [
    "y = np.array([missed_appts_count, kept_appts_count])\n",
    "mylabels = [\"Missed\", \"Kept\"]\n",
    "plt.pie(y, labels = mylabels)\n",
    "plt.title(\"Ratio of missed appointments\")\n",
    "plt.show() "
   ]
  },
  {
   "cell_type": "markdown",
   "metadata": {},
   "source": [
    "Next, I'll use the groupby function to get more details about which neighborhoods get the most missed appointments. Then, I'll calculate a ratio of missed-to-kept appointments by neighborhood to determine neighborhoods with the worst attendance rates."
   ]
  },
  {
   "cell_type": "code",
   "execution_count": 17,
   "metadata": {},
   "outputs": [
    {
     "data": {
      "text/plain": [
       "Neighbourhood\n",
       "AEROPORTO              0.142857\n",
       "ANDORINHAS             0.299253\n",
       "ANTÔNIO HONÓRIO        0.226244\n",
       "ARIOVALDO FAVALESSA    0.281818\n",
       "BARRO VERMELHO         0.274096\n",
       "                         ...   \n",
       "SÃO JOSÉ               0.276307\n",
       "SÃO PEDRO              0.266425\n",
       "TABUAZEIRO             0.223916\n",
       "UNIVERSITÁRIO          0.266667\n",
       "VILA RUBIM             0.198592\n",
       "Name: Neighbourhood, Length: 81, dtype: float64"
      ]
     },
     "execution_count": 17,
     "metadata": {},
     "output_type": "execute_result"
    }
   ],
   "source": [
    "missed_count_by_neighbourhood = missed_appts.groupby('Neighbourhood').Neighbourhood.count() #number of missed appointments in each neighborhood\n",
    "kept_count_by_neighbourhood = kept_appts.groupby('Neighbourhood').Neighbourhood.count() #number of kept appointments in each neighborhood\n",
    "appt_proportions = missed_count_by_neighbourhood / kept_count_by_neighbourhood #ratio of missed-to-kept appointments by neighborhood\n",
    "appt_proportions"
   ]
  },
  {
   "cell_type": "markdown",
   "metadata": {},
   "source": [
    "Uh-oh; somehow a null value crept into my series of missed appointment proportions by neighborhood. Let me see if I can learn more about that. Pandas won't let me run a query on the series 'appt_proportions', so first, I'll turn it into a dataframe and then run a query on that dataframe: "
   ]
  },
  {
   "cell_type": "code",
   "execution_count": 18,
   "metadata": {},
   "outputs": [
    {
     "data": {
      "text/html": [
       "<div>\n",
       "<style scoped>\n",
       "    .dataframe tbody tr th:only-of-type {\n",
       "        vertical-align: middle;\n",
       "    }\n",
       "\n",
       "    .dataframe tbody tr th {\n",
       "        vertical-align: top;\n",
       "    }\n",
       "\n",
       "    .dataframe thead th {\n",
       "        text-align: right;\n",
       "    }\n",
       "</style>\n",
       "<table border=\"1\" class=\"dataframe\">\n",
       "  <thead>\n",
       "    <tr style=\"text-align: right;\">\n",
       "      <th></th>\n",
       "      <th>Neighbourhood</th>\n",
       "      <th>Proportion</th>\n",
       "    </tr>\n",
       "  </thead>\n",
       "  <tbody>\n",
       "  </tbody>\n",
       "</table>\n",
       "</div>"
      ],
      "text/plain": [
       "Empty DataFrame\n",
       "Columns: [Neighbourhood, Proportion]\n",
       "Index: []"
      ]
     },
     "execution_count": 18,
     "metadata": {},
     "output_type": "execute_result"
    }
   ],
   "source": [
    "df_props = pd.DataFrame({'Neighbourhood':appt_proportions.index, 'Proportion':appt_proportions.values})\n",
    "df_props.query('Proportion == \"NaN\"')"
   ]
  },
  {
   "cell_type": "markdown",
   "metadata": {},
   "source": [
    "Looks like there are two null values, and they are from the neighborhoods 'Ilhas Oceanicas de Trinidade' and 'Parque Industrial.' Lets look more closely at those neighborhoods in the original dataframe."
   ]
  },
  {
   "cell_type": "code",
   "execution_count": 19,
   "metadata": {},
   "outputs": [
    {
     "data": {
      "text/html": [
       "<div>\n",
       "<style scoped>\n",
       "    .dataframe tbody tr th:only-of-type {\n",
       "        vertical-align: middle;\n",
       "    }\n",
       "\n",
       "    .dataframe tbody tr th {\n",
       "        vertical-align: top;\n",
       "    }\n",
       "\n",
       "    .dataframe thead th {\n",
       "        text-align: right;\n",
       "    }\n",
       "</style>\n",
       "<table border=\"1\" class=\"dataframe\">\n",
       "  <thead>\n",
       "    <tr style=\"text-align: right;\">\n",
       "      <th></th>\n",
       "      <th>PatientId</th>\n",
       "      <th>AppointmentID</th>\n",
       "      <th>Gender</th>\n",
       "      <th>ScheduledDay</th>\n",
       "      <th>AppointmentDay</th>\n",
       "      <th>Age</th>\n",
       "      <th>Neighbourhood</th>\n",
       "      <th>Scholarship</th>\n",
       "      <th>Hypertension</th>\n",
       "      <th>Diabetes</th>\n",
       "      <th>Alcoholism</th>\n",
       "      <th>Handicap</th>\n",
       "      <th>SMS_received</th>\n",
       "      <th>no_show</th>\n",
       "    </tr>\n",
       "  </thead>\n",
       "  <tbody>\n",
       "    <tr>\n",
       "      <th>75199</th>\n",
       "      <td>8.255992e+12</td>\n",
       "      <td>5663947</td>\n",
       "      <td>F</td>\n",
       "      <td>2016-05-05 10:48:59+00:00</td>\n",
       "      <td>2016-05-05 00:00:00+00:00</td>\n",
       "      <td>17</td>\n",
       "      <td>PARQUE INDUSTRIAL</td>\n",
       "      <td>0</td>\n",
       "      <td>0</td>\n",
       "      <td>0</td>\n",
       "      <td>0</td>\n",
       "      <td>False</td>\n",
       "      <td>0</td>\n",
       "      <td>No</td>\n",
       "    </tr>\n",
       "  </tbody>\n",
       "</table>\n",
       "</div>"
      ],
      "text/plain": [
       "          PatientId  AppointmentID Gender              ScheduledDay  \\\n",
       "75199  8.255992e+12        5663947      F 2016-05-05 10:48:59+00:00   \n",
       "\n",
       "                 AppointmentDay  Age      Neighbourhood  Scholarship  \\\n",
       "75199 2016-05-05 00:00:00+00:00   17  PARQUE INDUSTRIAL            0   \n",
       "\n",
       "       Hypertension  Diabetes  Alcoholism  Handicap  SMS_received no_show  \n",
       "75199             0         0           0     False             0      No  "
      ]
     },
     "execution_count": 19,
     "metadata": {},
     "output_type": "execute_result"
    }
   ],
   "source": [
    "df.query('Neighbourhood == \"PARQUE INDUSTRIAL\"')"
   ]
  },
  {
   "cell_type": "code",
   "execution_count": 20,
   "metadata": {},
   "outputs": [
    {
     "data": {
      "text/html": [
       "<div>\n",
       "<style scoped>\n",
       "    .dataframe tbody tr th:only-of-type {\n",
       "        vertical-align: middle;\n",
       "    }\n",
       "\n",
       "    .dataframe tbody tr th {\n",
       "        vertical-align: top;\n",
       "    }\n",
       "\n",
       "    .dataframe thead th {\n",
       "        text-align: right;\n",
       "    }\n",
       "</style>\n",
       "<table border=\"1\" class=\"dataframe\">\n",
       "  <thead>\n",
       "    <tr style=\"text-align: right;\">\n",
       "      <th></th>\n",
       "      <th>PatientId</th>\n",
       "      <th>AppointmentID</th>\n",
       "      <th>Gender</th>\n",
       "      <th>ScheduledDay</th>\n",
       "      <th>AppointmentDay</th>\n",
       "      <th>Age</th>\n",
       "      <th>Neighbourhood</th>\n",
       "      <th>Scholarship</th>\n",
       "      <th>Hypertension</th>\n",
       "      <th>Diabetes</th>\n",
       "      <th>Alcoholism</th>\n",
       "      <th>Handicap</th>\n",
       "      <th>SMS_received</th>\n",
       "      <th>no_show</th>\n",
       "    </tr>\n",
       "  </thead>\n",
       "  <tbody>\n",
       "    <tr>\n",
       "      <th>48754</th>\n",
       "      <td>5.349869e+11</td>\n",
       "      <td>5583947</td>\n",
       "      <td>F</td>\n",
       "      <td>2016-04-14 12:25:43+00:00</td>\n",
       "      <td>2016-05-13 00:00:00+00:00</td>\n",
       "      <td>51</td>\n",
       "      <td>ILHAS OCEÂNICAS DE TRINDADE</td>\n",
       "      <td>0</td>\n",
       "      <td>0</td>\n",
       "      <td>0</td>\n",
       "      <td>0</td>\n",
       "      <td>False</td>\n",
       "      <td>0</td>\n",
       "      <td>Yes</td>\n",
       "    </tr>\n",
       "    <tr>\n",
       "      <th>48765</th>\n",
       "      <td>7.256430e+12</td>\n",
       "      <td>5583948</td>\n",
       "      <td>F</td>\n",
       "      <td>2016-04-14 12:26:13+00:00</td>\n",
       "      <td>2016-05-13 00:00:00+00:00</td>\n",
       "      <td>58</td>\n",
       "      <td>ILHAS OCEÂNICAS DE TRINDADE</td>\n",
       "      <td>0</td>\n",
       "      <td>0</td>\n",
       "      <td>0</td>\n",
       "      <td>0</td>\n",
       "      <td>False</td>\n",
       "      <td>0</td>\n",
       "      <td>Yes</td>\n",
       "    </tr>\n",
       "  </tbody>\n",
       "</table>\n",
       "</div>"
      ],
      "text/plain": [
       "          PatientId  AppointmentID Gender              ScheduledDay  \\\n",
       "48754  5.349869e+11        5583947      F 2016-04-14 12:25:43+00:00   \n",
       "48765  7.256430e+12        5583948      F 2016-04-14 12:26:13+00:00   \n",
       "\n",
       "                 AppointmentDay  Age                Neighbourhood  \\\n",
       "48754 2016-05-13 00:00:00+00:00   51  ILHAS OCEÂNICAS DE TRINDADE   \n",
       "48765 2016-05-13 00:00:00+00:00   58  ILHAS OCEÂNICAS DE TRINDADE   \n",
       "\n",
       "       Scholarship  Hypertension  Diabetes  Alcoholism  Handicap  \\\n",
       "48754            0             0         0           0     False   \n",
       "48765            0             0         0           0     False   \n",
       "\n",
       "       SMS_received no_show  \n",
       "48754             0     Yes  \n",
       "48765             0     Yes  "
      ]
     },
     "execution_count": 20,
     "metadata": {},
     "output_type": "execute_result"
    }
   ],
   "source": [
    "df.query('Neighbourhood == \"ILHAS OCEÂNICAS DE TRINDADE\"')"
   ]
  },
  {
   "cell_type": "markdown",
   "metadata": {},
   "source": [
    "I think I see the problem; in Parque Industrial, there was only one appointment, and the person attended. When finding the ratio of missed-to-kept appointments, the ratio would be 0/1. Pandas likely converted that to a null value.\n",
    "Similarly, in Ilhas Oceanicas de Trinidade, both of the two scheduled appointments were no-shows, making their ratio 2/0, which is mathematically undefined, but Pandas may have also converted that to a null value.\n",
    "Lets remove both of those neighborhoods from our results and then plot those results."
   ]
  },
  {
   "cell_type": "code",
   "execution_count": 21,
   "metadata": {},
   "outputs": [
    {
     "data": {
      "text/html": [
       "<div>\n",
       "<style scoped>\n",
       "    .dataframe tbody tr th:only-of-type {\n",
       "        vertical-align: middle;\n",
       "    }\n",
       "\n",
       "    .dataframe tbody tr th {\n",
       "        vertical-align: top;\n",
       "    }\n",
       "\n",
       "    .dataframe thead th {\n",
       "        text-align: right;\n",
       "    }\n",
       "</style>\n",
       "<table border=\"1\" class=\"dataframe\">\n",
       "  <thead>\n",
       "    <tr style=\"text-align: right;\">\n",
       "      <th></th>\n",
       "      <th>Neighbourhood</th>\n",
       "      <th>Proportion</th>\n",
       "    </tr>\n",
       "  </thead>\n",
       "  <tbody>\n",
       "    <tr>\n",
       "      <th>0</th>\n",
       "      <td>AEROPORTO</td>\n",
       "      <td>0.142857</td>\n",
       "    </tr>\n",
       "    <tr>\n",
       "      <th>1</th>\n",
       "      <td>ANDORINHAS</td>\n",
       "      <td>0.299253</td>\n",
       "    </tr>\n",
       "    <tr>\n",
       "      <th>2</th>\n",
       "      <td>ANTÔNIO HONÓRIO</td>\n",
       "      <td>0.226244</td>\n",
       "    </tr>\n",
       "    <tr>\n",
       "      <th>3</th>\n",
       "      <td>ARIOVALDO FAVALESSA</td>\n",
       "      <td>0.281818</td>\n",
       "    </tr>\n",
       "    <tr>\n",
       "      <th>4</th>\n",
       "      <td>BARRO VERMELHO</td>\n",
       "      <td>0.274096</td>\n",
       "    </tr>\n",
       "    <tr>\n",
       "      <th>...</th>\n",
       "      <td>...</td>\n",
       "      <td>...</td>\n",
       "    </tr>\n",
       "    <tr>\n",
       "      <th>76</th>\n",
       "      <td>SÃO JOSÉ</td>\n",
       "      <td>0.276307</td>\n",
       "    </tr>\n",
       "    <tr>\n",
       "      <th>77</th>\n",
       "      <td>SÃO PEDRO</td>\n",
       "      <td>0.266425</td>\n",
       "    </tr>\n",
       "    <tr>\n",
       "      <th>78</th>\n",
       "      <td>TABUAZEIRO</td>\n",
       "      <td>0.223916</td>\n",
       "    </tr>\n",
       "    <tr>\n",
       "      <th>79</th>\n",
       "      <td>UNIVERSITÁRIO</td>\n",
       "      <td>0.266667</td>\n",
       "    </tr>\n",
       "    <tr>\n",
       "      <th>80</th>\n",
       "      <td>VILA RUBIM</td>\n",
       "      <td>0.198592</td>\n",
       "    </tr>\n",
       "  </tbody>\n",
       "</table>\n",
       "<p>79 rows × 2 columns</p>\n",
       "</div>"
      ],
      "text/plain": [
       "          Neighbourhood  Proportion\n",
       "0             AEROPORTO    0.142857\n",
       "1            ANDORINHAS    0.299253\n",
       "2       ANTÔNIO HONÓRIO    0.226244\n",
       "3   ARIOVALDO FAVALESSA    0.281818\n",
       "4        BARRO VERMELHO    0.274096\n",
       "..                  ...         ...\n",
       "76             SÃO JOSÉ    0.276307\n",
       "77            SÃO PEDRO    0.266425\n",
       "78           TABUAZEIRO    0.223916\n",
       "79        UNIVERSITÁRIO    0.266667\n",
       "80           VILA RUBIM    0.198592\n",
       "\n",
       "[79 rows x 2 columns]"
      ]
     },
     "execution_count": 21,
     "metadata": {},
     "output_type": "execute_result"
    }
   ],
   "source": [
    "df_props.drop([34, 51])"
   ]
  },
  {
   "cell_type": "markdown",
   "metadata": {},
   "source": [
    "Now, lets try plotting that on a line graph:"
   ]
  },
  {
   "cell_type": "code",
   "execution_count": 22,
   "metadata": {},
   "outputs": [
    {
     "data": {
      "image/png": "[encoded data removed]",
      "text/plain": [
       "<Figure size 640x480 with 1 Axes>"
      ]
     },
     "metadata": {},
     "output_type": "display_data"
    }
   ],
   "source": [
    "plt.plot(df_props.Neighbourhood, df_props.Proportion);"
   ]
  },
  {
   "cell_type": "markdown",
   "metadata": {},
   "source": [
    "There are too many neighborhoods to be able to read those labels on the x-axis, but we can narrow down the real outliers in this dataset and take a closer look at them using this graph and the describe() function:"
   ]
  },
  {
   "cell_type": "code",
   "execution_count": 23,
   "metadata": {},
   "outputs": [
    {
     "data": {
      "text/html": [
       "<div>\n",
       "<style scoped>\n",
       "    .dataframe tbody tr th:only-of-type {\n",
       "        vertical-align: middle;\n",
       "    }\n",
       "\n",
       "    .dataframe tbody tr th {\n",
       "        vertical-align: top;\n",
       "    }\n",
       "\n",
       "    .dataframe thead th {\n",
       "        text-align: right;\n",
       "    }\n",
       "</style>\n",
       "<table border=\"1\" class=\"dataframe\">\n",
       "  <thead>\n",
       "    <tr style=\"text-align: right;\">\n",
       "      <th></th>\n",
       "      <th>Proportion</th>\n",
       "    </tr>\n",
       "  </thead>\n",
       "  <tbody>\n",
       "    <tr>\n",
       "      <th>count</th>\n",
       "      <td>79.000000</td>\n",
       "    </tr>\n",
       "    <tr>\n",
       "      <th>mean</th>\n",
       "      <td>0.248762</td>\n",
       "    </tr>\n",
       "    <tr>\n",
       "      <th>std</th>\n",
       "      <td>0.049525</td>\n",
       "    </tr>\n",
       "    <tr>\n",
       "      <th>min</th>\n",
       "      <td>0.093750</td>\n",
       "    </tr>\n",
       "    <tr>\n",
       "      <th>25%</th>\n",
       "      <td>0.219923</td>\n",
       "    </tr>\n",
       "    <tr>\n",
       "      <th>50%</th>\n",
       "      <td>0.246243</td>\n",
       "    </tr>\n",
       "    <tr>\n",
       "      <th>75%</th>\n",
       "      <td>0.277093</td>\n",
       "    </tr>\n",
       "    <tr>\n",
       "      <th>max</th>\n",
       "      <td>0.406836</td>\n",
       "    </tr>\n",
       "  </tbody>\n",
       "</table>\n",
       "</div>"
      ],
      "text/plain": [
       "       Proportion\n",
       "count   79.000000\n",
       "mean     0.248762\n",
       "std      0.049525\n",
       "min      0.093750\n",
       "25%      0.219923\n",
       "50%      0.246243\n",
       "75%      0.277093\n",
       "max      0.406836"
      ]
     },
     "execution_count": 23,
     "metadata": {},
     "output_type": "execute_result"
    }
   ],
   "source": [
    "df_props.describe()"
   ]
  },
  {
   "cell_type": "markdown",
   "metadata": {},
   "source": [
    "The graph above seems to give more striking details than df_props.describe(). According to the graph, there are two neighborhoods with exceptionally high attendance (15% or fewer missed), and there are 3 or 4 neighborhoods with exceptionally low attendance (35% or more missed). Lets name those neighborhoods and then look more closely at them."
   ]
  },
  {
   "cell_type": "code",
   "execution_count": 24,
   "metadata": {},
   "outputs": [
    {
     "data": {
      "text/html": [
       "<div>\n",
       "<style scoped>\n",
       "    .dataframe tbody tr th:only-of-type {\n",
       "        vertical-align: middle;\n",
       "    }\n",
       "\n",
       "    .dataframe tbody tr th {\n",
       "        vertical-align: top;\n",
       "    }\n",
       "\n",
       "    .dataframe thead th {\n",
       "        text-align: right;\n",
       "    }\n",
       "</style>\n",
       "<table border=\"1\" class=\"dataframe\">\n",
       "  <thead>\n",
       "    <tr style=\"text-align: right;\">\n",
       "      <th></th>\n",
       "      <th>Neighbourhood</th>\n",
       "      <th>Proportion</th>\n",
       "    </tr>\n",
       "  </thead>\n",
       "  <tbody>\n",
       "    <tr>\n",
       "      <th>0</th>\n",
       "      <td>AEROPORTO</td>\n",
       "      <td>0.142857</td>\n",
       "    </tr>\n",
       "    <tr>\n",
       "      <th>31</th>\n",
       "      <td>ILHA DO BOI</td>\n",
       "      <td>0.093750</td>\n",
       "    </tr>\n",
       "  </tbody>\n",
       "</table>\n",
       "</div>"
      ],
      "text/plain": [
       "   Neighbourhood  Proportion\n",
       "0      AEROPORTO    0.142857\n",
       "31   ILHA DO BOI    0.093750"
      ]
     },
     "execution_count": 24,
     "metadata": {},
     "output_type": "execute_result"
    }
   ],
   "source": [
    "high_attendance = df_props.query('Proportion < .15') #neighborhoods with less than 15% no-shows\n",
    "high_attendance"
   ]
  },
  {
   "cell_type": "code",
   "execution_count": 25,
   "metadata": {},
   "outputs": [
    {
     "data": {
      "text/html": [
       "<div>\n",
       "<style scoped>\n",
       "    .dataframe tbody tr th:only-of-type {\n",
       "        vertical-align: middle;\n",
       "    }\n",
       "\n",
       "    .dataframe tbody tr th {\n",
       "        vertical-align: top;\n",
       "    }\n",
       "\n",
       "    .dataframe thead th {\n",
       "        text-align: right;\n",
       "    }\n",
       "</style>\n",
       "<table border=\"1\" class=\"dataframe\">\n",
       "  <thead>\n",
       "    <tr style=\"text-align: right;\">\n",
       "      <th></th>\n",
       "      <th>Neighbourhood</th>\n",
       "      <th>Proportion</th>\n",
       "    </tr>\n",
       "  </thead>\n",
       "  <tbody>\n",
       "    <tr>\n",
       "      <th>36</th>\n",
       "      <td>ITARARÉ</td>\n",
       "      <td>0.356233</td>\n",
       "    </tr>\n",
       "    <tr>\n",
       "      <th>61</th>\n",
       "      <td>SANTA CECÍLIA</td>\n",
       "      <td>0.378462</td>\n",
       "    </tr>\n",
       "    <tr>\n",
       "      <th>62</th>\n",
       "      <td>SANTA CLARA</td>\n",
       "      <td>0.360215</td>\n",
       "    </tr>\n",
       "    <tr>\n",
       "      <th>70</th>\n",
       "      <td>SANTOS DUMONT</td>\n",
       "      <td>0.406836</td>\n",
       "    </tr>\n",
       "  </tbody>\n",
       "</table>\n",
       "</div>"
      ],
      "text/plain": [
       "    Neighbourhood  Proportion\n",
       "36        ITARARÉ    0.356233\n",
       "61  SANTA CECÍLIA    0.378462\n",
       "62    SANTA CLARA    0.360215\n",
       "70  SANTOS DUMONT    0.406836"
      ]
     },
     "execution_count": 25,
     "metadata": {},
     "output_type": "execute_result"
    }
   ],
   "source": [
    "low_attendance = df_props.query('Proportion > .35') #neighborhoods with more than 35% no-shows\n",
    "low_attendance"
   ]
  },
  {
   "cell_type": "markdown",
   "metadata": {},
   "source": [
    "I have a hunch that, just like the two rows we had to delete earlier, the neighborhoods with exceptionally high attendance will also be very small. Let's see if that's true."
   ]
  },
  {
   "cell_type": "code",
   "execution_count": 26,
   "metadata": {},
   "outputs": [
    {
     "data": {
      "text/plain": [
       "8"
      ]
     },
     "execution_count": 26,
     "metadata": {},
     "output_type": "execute_result"
    }
   ],
   "source": [
    "df.query('Neighbourhood == \"AEROPORTO\"').PatientId.count()"
   ]
  },
  {
   "cell_type": "code",
   "execution_count": 27,
   "metadata": {},
   "outputs": [
    {
     "data": {
      "text/plain": [
       "35"
      ]
     },
     "execution_count": 27,
     "metadata": {},
     "output_type": "execute_result"
    }
   ],
   "source": [
    "df.query('Neighbourhood == \"ILHA DO BOI\"').PatientId.count()"
   ]
  },
  {
   "cell_type": "code",
   "execution_count": 28,
   "metadata": {},
   "outputs": [
    {
     "data": {
      "text/plain": [
       "3514"
      ]
     },
     "execution_count": 28,
     "metadata": {},
     "output_type": "execute_result"
    }
   ],
   "source": [
    "df.query('Neighbourhood == \"ITARARÉ\"').PatientId.count()"
   ]
  },
  {
   "cell_type": "code",
   "execution_count": 29,
   "metadata": {},
   "outputs": [
    {
     "data": {
      "text/plain": [
       "448"
      ]
     },
     "execution_count": 29,
     "metadata": {},
     "output_type": "execute_result"
    }
   ],
   "source": [
    "df.query('Neighbourhood == \"SANTA CECÍLIA\"').PatientId.count()"
   ]
  },
  {
   "cell_type": "code",
   "execution_count": 30,
   "metadata": {},
   "outputs": [
    {
     "data": {
      "text/plain": [
       "506"
      ]
     },
     "execution_count": 30,
     "metadata": {},
     "output_type": "execute_result"
    }
   ],
   "source": [
    "df.query('Neighbourhood == \"SANTA CLARA\"').PatientId.count()"
   ]
  },
  {
   "cell_type": "code",
   "execution_count": 31,
   "metadata": {},
   "outputs": [
    {
     "data": {
      "text/plain": [
       "1276"
      ]
     },
     "execution_count": 31,
     "metadata": {},
     "output_type": "execute_result"
    }
   ],
   "source": [
    "df.query('Neighbourhood == \"SANTOS DUMONT\"').PatientId.count()"
   ]
  },
  {
   "cell_type": "markdown",
   "metadata": {},
   "source": [
    "Yes, that seems to be the case. The two neighborhoods with much better attendance also have far fewer appointments scheduled."
   ]
  },
  {
   "cell_type": "markdown",
   "metadata": {},
   "source": [
    "<h4>Answer to Question 1:</h4>My initial response to this information is that the areas with high attendance have fewer appointments than areas with low attendance. This might be worth a follow-up; perhaps there is a correlation between the population of a neighborhood and attendance rates. However, my goal was only to find the hospitals at which attendance rates were the worst. At which hospitals are patients more likely to miss their appointments? The answer is: at the hospitals in ITARARÉ, SANTA CECÍLIA, SANTA CLARA, and SANTOS DUMONT. Other hospitals could be added to this list; any hospital with an attendance rate below the mean, but these four are the most poorly attended by proportion of appointments made."
   ]
  },
  {
   "cell_type": "markdown",
   "metadata": {},
   "source": [
    "<a id='Q2'></a>\n",
    "### Research Question 2:  Are any of the documented conditions (hypertension, diabetes, alcoholism, and handicap) more likely to result in a missed appointment?"
   ]
  },
  {
   "cell_type": "markdown",
   "metadata": {},
   "source": [
    "We established a baseline ratio of missed to total appointments of ~.2 in Question 1. Does that mean hold true for patients with each of these conditions? Lets calculate the same ratio for each of these groups of patients. We can re-use some of the dataframes we created for the last question:<br>\n",
    "Reused dataframes:<br>\n",
    "missed_appts = df.query('no_show == \"Yes\"')<br>\n",
    "missed_appts_count = missed_appts.no_show.count()<br>\n",
    "total_appts = df.count().AppointmentID<br>\n",
    "missed_proportion = missed_appts_count / total_appts<br>\n",
    "kept_appts = df.query('no_show == \"No\"')<br>\n",
    "kept_appts_count = kept_appts.no_show.count()<br>"
   ]
  },
  {
   "cell_type": "markdown",
   "metadata": {},
   "source": [
    "Let's start with the rate of missed appointments for people with hypertension. I'm going to have to do this several times, so I'll define a custom function to find the ratio of missed appointments to total appointments given a condition:"
   ]
  },
  {
   "cell_type": "code",
   "execution_count": 32,
   "metadata": {},
   "outputs": [],
   "source": [
    "def get_ratio(dataframe, condition):\n",
    "    temp_df = dataframe.loc[df[condition] == 1] #subset of patients with the specified condition\n",
    "    condition_total = temp_df.no_show.count() #number of patients with that condition\n",
    "    condition_missed = temp_df.loc[temp_df['no_show'] == \"Yes\"].no_show.count() # num. of those patients who missed\n",
    "    condition_made = temp_df.loc[temp_df['no_show'] == \"No\"].no_show.count() #num. of patients who made (not used)\n",
    "    return condition_missed/condition_total"
   ]
  },
  {
   "cell_type": "code",
   "execution_count": 33,
   "metadata": {},
   "outputs": [
    {
     "data": {
      "text/plain": [
       "0.17301958625751113"
      ]
     },
     "execution_count": 33,
     "metadata": {},
     "output_type": "execute_result"
    }
   ],
   "source": [
    "hyper_ratio = get_ratio(df, \"Hypertension\")\n",
    "hyper_ratio"
   ]
  },
  {
   "cell_type": "markdown",
   "metadata": {},
   "source": [
    "That looks a bit lower than the overall mean. It looks like people with hypertension are more likely than normal to attend their appointments, although I can't say whether this difference is significant."
   ]
  },
  {
   "cell_type": "markdown",
   "metadata": {},
   "source": [
    "Now lets look at Diabetes:"
   ]
  },
  {
   "cell_type": "code",
   "execution_count": 34,
   "metadata": {},
   "outputs": [
    {
     "data": {
      "text/plain": [
       "0.18003273322422259"
      ]
     },
     "execution_count": 34,
     "metadata": {},
     "output_type": "execute_result"
    }
   ],
   "source": [
    "diabetes_ratio = get_ratio(df, \"Diabetes\")\n",
    "diabetes_ratio"
   ]
  },
  {
   "cell_type": "markdown",
   "metadata": {},
   "source": [
    "Alcoholism?"
   ]
  },
  {
   "cell_type": "code",
   "execution_count": 35,
   "metadata": {},
   "outputs": [
    {
     "data": {
      "text/plain": [
       "0.20148809523809524"
      ]
     },
     "execution_count": 35,
     "metadata": {},
     "output_type": "execute_result"
    }
   ],
   "source": [
    "alcoholism_ratio = get_ratio(df, \"Alcoholism\")\n",
    "alcoholism_ratio"
   ]
  },
  {
   "cell_type": "markdown",
   "metadata": {},
   "source": [
    "Handicaps?"
   ]
  },
  {
   "cell_type": "code",
   "execution_count": 36,
   "metadata": {},
   "outputs": [
    {
     "data": {
      "text/plain": [
       "0.18161535029004908"
      ]
     },
     "execution_count": 36,
     "metadata": {},
     "output_type": "execute_result"
    }
   ],
   "source": [
    "handicap_ratio = get_ratio(df, \"Handicap\")\n",
    "handicap_ratio"
   ]
  },
  {
   "cell_type": "markdown",
   "metadata": {},
   "source": [
    "And what about people with none of those conditions? My function doesn't take multiple conditions, so I'll have to do this by hand:"
   ]
  },
  {
   "cell_type": "code",
   "execution_count": 37,
   "metadata": {},
   "outputs": [
    {
     "data": {
      "text/plain": [
       "nan"
      ]
     },
     "execution_count": 37,
     "metadata": {},
     "output_type": "execute_result"
    }
   ],
   "source": [
    "none_df = df.query('Handicap==\"0\" & Alcoholism ==\"0\" & Diabetes==\"0\" & Hypertension==\"0\"')\n",
    "none_df_total = none_df.count()\n",
    "none_df_missed = none_df.query('no_show == \"Yes\"').no_show.count()\n",
    "none_df_made = none_df.query('no_show == \"No\"').no_show.count()\n",
    "none_ratio = none_df_missed/none_df_total\n",
    "none_ratio.no_show"
   ]
  },
  {
   "cell_type": "markdown",
   "metadata": {},
   "source": [
    "Now lets compare those ratios using a bar graph"
   ]
  },
  {
   "cell_type": "code",
   "execution_count": 38,
   "metadata": {
    "scrolled": true
   },
   "outputs": [
    {
     "data": {
      "image/png": "[encoded data removed]",
      "text/plain": [
       "<Figure size 640x480 with 1 Axes>"
      ]
     },
     "metadata": {},
     "output_type": "display_data"
    }
   ],
   "source": [
    "condition_props = pd.DataFrame({'Condition':['All', 'None', 'Hypertension', 'Diabetes', 'Alcoholism', 'Handicap'],\n",
    "                                'rate':[missed_proportion, none_ratio.no_show, hyper_ratio, diabetes_ratio, alcoholism_ratio,\n",
    "                                        handicap_ratio]})\n",
    "condition_props.plot.bar(x='Condition', y='rate', rot=0);"
   ]
  },
  {
   "cell_type": "markdown",
   "metadata": {},
   "source": [
    "<h4>Answer to Question 2:</h4> The bar graph above shows there is some variation in attendance rates among people with different health conditions. However, having any of these conditions makes it less likely for a patient to miss an appointment. Without more sophisticated statistical analysis, I can't say whether any of this variation is significant or not. It does seem very minimal; something around 3 percentage points at the most."
   ]
  },
  {
   "cell_type": "markdown",
   "metadata": {},
   "source": [
    "<a id='Q3'></a>\n",
    "<h3>Research Question 3: Are patients more likely to miss appointments if they schedule too far in advance?</h3>"
   ]
  },
  {
   "cell_type": "markdown",
   "metadata": {},
   "source": [
    "Let me just start out by exploring the data. Let's look some more at how long in advance people schedule their appointments."
   ]
  },
  {
   "cell_type": "code",
   "execution_count": 39,
   "metadata": {},
   "outputs": [
    {
     "data": {
      "text/plain": [
       "count    110527\n",
       "mean          9\n",
       "std          15\n",
       "min          -6\n",
       "25%           0\n",
       "50%           3\n",
       "75%          14\n",
       "max         178\n",
       "dtype: int32"
      ]
     },
     "execution_count": 39,
     "metadata": {},
     "output_type": "execute_result"
    }
   ],
   "source": [
    "lead_time = (df.AppointmentDay - df.ScheduledDay) / np.timedelta64(1, 'D')\n",
    "lead_time.describe().astype(int)"
   ]
  },
  {
   "cell_type": "code",
   "execution_count": 40,
   "metadata": {},
   "outputs": [],
   "source": [
    "lead_time_in_days = lead_time.astype(int)"
   ]
  },
  {
   "cell_type": "code",
   "execution_count": 41,
   "metadata": {},
   "outputs": [
    {
     "data": {
      "text/plain": [
       "<Axes: >"
      ]
     },
     "execution_count": 41,
     "metadata": {},
     "output_type": "execute_result"
    },
    {
     "data": {
      "image/png": "[encoded data removed]",
      "text/plain": [
       "<Figure size 640x480 with 1 Axes>"
      ]
     },
     "metadata": {},
     "output_type": "display_data"
    }
   ],
   "source": [
    "lead_time_in_days.hist()"
   ]
  },
  {
   "cell_type": "markdown",
   "metadata": {},
   "source": [
    "This data will need additional cleaning. People are scheduling their appointments up to negative six days in advance, i.e. appointments are being added to the schedule retroactively. Lets start by adding the 'lead_time_in_days' series as a new column to the original and then remove rows where that column is negative."
   ]
  },
  {
   "cell_type": "code",
   "execution_count": 42,
   "metadata": {},
   "outputs": [
    {
     "data": {
      "text/plain": [
       "count    66746.000000\n",
       "mean        15.785590\n",
       "std         16.590956\n",
       "min          1.000000\n",
       "25%          4.000000\n",
       "50%         11.000000\n",
       "75%         23.000000\n",
       "max        178.000000\n",
       "Name: lead_time, dtype: float64"
      ]
     },
     "execution_count": 42,
     "metadata": {},
     "output_type": "execute_result"
    }
   ],
   "source": [
    "df_lead_times = df\n",
    "df_lead_times['lead_time'] = lead_time_in_days.values\n",
    "df_pos_lead_times = df_lead_times.query('lead_time > 0')\n",
    "df_pos_lead_times.lead_time.describe()"
   ]
  },
  {
   "cell_type": "markdown",
   "metadata": {},
   "source": [
    "Now lets compare histograms of lead times when people miss their appointments vs when they make their appointments"
   ]
  },
  {
   "cell_type": "code",
   "execution_count": 43,
   "metadata": {},
   "outputs": [
    {
     "data": {
      "image/png": "[encoded data removed]",
      "text/plain": [
       "<Figure size 640x480 with 1 Axes>"
      ]
     },
     "metadata": {},
     "output_type": "display_data"
    }
   ],
   "source": [
    "missed_hist = df_pos_lead_times.query('no_show == \"Yes\"')\n",
    "missed_hist.lead_time.hist();"
   ]
  },
  {
   "cell_type": "code",
   "execution_count": 44,
   "metadata": {},
   "outputs": [
    {
     "data": {
      "image/png": "[encoded data removed]",
      "text/plain": [
       "<Figure size 640x480 with 1 Axes>"
      ]
     },
     "metadata": {},
     "output_type": "display_data"
    }
   ],
   "source": [
    "made_hist = df_pos_lead_times.query('no_show == \"No\"')\n",
    "made_hist.lead_time.hist();"
   ]
  },
  {
   "cell_type": "markdown",
   "metadata": {},
   "source": [
    "Those histograms look very similar. Maybe we'll be able to see a difference when we look at the numbers."
   ]
  },
  {
   "cell_type": "code",
   "execution_count": 45,
   "metadata": {},
   "outputs": [
    {
     "data": {
      "text/plain": [
       "count    19409.000000\n",
       "mean        17.148282\n",
       "std         16.610089\n",
       "min          1.000000\n",
       "25%          5.000000\n",
       "50%         13.000000\n",
       "75%         25.000000\n",
       "max        178.000000\n",
       "Name: lead_time, dtype: float64"
      ]
     },
     "execution_count": 45,
     "metadata": {},
     "output_type": "execute_result"
    }
   ],
   "source": [
    "missed_hist.lead_time.describe()"
   ]
  },
  {
   "cell_type": "code",
   "execution_count": 46,
   "metadata": {},
   "outputs": [
    {
     "data": {
      "text/plain": [
       "count    47337.000000\n",
       "mean        15.226863\n",
       "std         16.550879\n",
       "min          1.000000\n",
       "25%          4.000000\n",
       "50%          9.000000\n",
       "75%         22.000000\n",
       "max        178.000000\n",
       "Name: lead_time, dtype: float64"
      ]
     },
     "execution_count": 46,
     "metadata": {},
     "output_type": "execute_result"
    }
   ],
   "source": [
    "made_hist.lead_time.describe()"
   ]
  },
  {
   "cell_type": "markdown",
   "metadata": {},
   "source": [
    "<h4>Answer to Question 3:</h4>It looks like the mean lead time is two days less when people make their appointments than it is when people miss their appointments. Like the last question, the difference here is very small, and I can't say whether it's significant without using more sophisticated statistical tools, but initially it looks like people are a little more likely to keep their appointment if they are scheduled a couple of days sooner."
   ]
  },
  {
   "cell_type": "markdown",
   "metadata": {},
   "source": [
    "<a id='Q4'></a>\n",
    "<h3>Research Question 4: How effective are SMS reminders at reducing missed appointments?</h3>"
   ]
  },
  {
   "cell_type": "markdown",
   "metadata": {},
   "source": [
    "I will start out with an initial caveat: the data source does not say that the SMS messages sent were appointment reminders; only that the patients received at least one SMS message. Given that caveat, this question will explore whether receiving an SMS message acted as a reminder and increased a patient's likelihood to attend the appointment. I'll start out by splitting the dataframe into groups of those who received an SMS and those who didn't, and then look at their individual ratios of attendance."
   ]
  },
  {
   "cell_type": "code",
   "execution_count": 47,
   "metadata": {},
   "outputs": [
    {
     "data": {
      "text/plain": [
       "0.27574544839637"
      ]
     },
     "execution_count": 47,
     "metadata": {},
     "output_type": "execute_result"
    }
   ],
   "source": [
    "smsdf = df.query('SMS_received== 1') #subset of patients who received an SMS message\n",
    "smsdf_total = smsdf.count() #number of patients who received an SMS message\n",
    "smsdf_missed = smsdf.query('no_show == \"Yes\"').no_show.count() #number of patients who received a message and still missed\n",
    "smsdf_made = smsdf.query('no_show == \"No\"').no_show.count() #number of patients who received a message and attended\n",
    "smsdf_proportion = smsdf_missed/smsdf_total #percentage of SMS receivers who missed their appointment\n",
    "smsdf_proportion.no_show"
   ]
  },
  {
   "cell_type": "code",
   "execution_count": 48,
   "metadata": {},
   "outputs": [
    {
     "data": {
      "text/plain": [
       "0.16703311346525418"
      ]
     },
     "execution_count": 48,
     "metadata": {},
     "output_type": "execute_result"
    }
   ],
   "source": [
    "no_smsdf = df.query('SMS_received== 0') #subset of patients who did not receive an SMS message\n",
    "no_smsdf_total = no_smsdf.count() #number of patients who didn't receive an SMS message\n",
    "no_smsdf_missed = no_smsdf.query('no_show == \"Yes\"').no_show.count() # #of patients who didn't get a message and still missed\n",
    "no_smsdf_made = no_smsdf.query('no_show == \"No\"').no_show.count() #number of patients who didn't get a message and attended\n",
    "no_smsdf_proportion = no_smsdf_missed/no_smsdf_total #percentage of non-SMS-receivers who missed their appointment\n",
    "no_smsdf_proportion.no_show"
   ]
  },
  {
   "cell_type": "code",
   "execution_count": 49,
   "metadata": {},
   "outputs": [
    {
     "data": {
      "image/png": "[encoded data removed]",
      "text/plain": [
       "<Figure size 640x480 with 1 Axes>"
      ]
     },
     "metadata": {},
     "output_type": "display_data"
    }
   ],
   "source": [
    "no_sms = np.array([no_smsdf_missed, no_smsdf_made])\n",
    "mylabels = [\"No-Show\", \"Attended\"]\n",
    "plt.pie(no_sms, labels = mylabels);\n",
    "plt.title(\"Attendance Without SMS Reminder\")\n",
    "plt.show() "
   ]
  },
  {
   "cell_type": "code",
   "execution_count": 50,
   "metadata": {},
   "outputs": [
    {
     "data": {
      "image/png": "[encoded data removed]",
      "text/plain": [
       "<Figure size 640x480 with 1 Axes>"
      ]
     },
     "metadata": {},
     "output_type": "display_data"
    }
   ],
   "source": [
    "yes_sms = np.array([smsdf_missed, smsdf_made])\n",
    "mylabels = [\"No-Show\", \"Attended\"]\n",
    "plt.pie(yes_sms, labels = mylabels);\n",
    "plt.title(\"Attendance With SMS Reminder\")\n",
    "plt.show() "
   ]
  },
  {
   "cell_type": "markdown",
   "metadata": {},
   "source": [
    "<h4>Answer to Question 4:</h4>The answer appears to be that those who received an SMS message are less likely to attend their appointment than those who did not receive an SMS message. The difference is also rather wide, although I can't say with any mathematical confidence that it's significant. This a surprising result; I expected the opposite. There may be additional information that could make this make sense; maybe SMS messages are only sent to people with a history of missing their appointments. Without more information, I can't say."
   ]
  },
  {
   "cell_type": "markdown",
   "metadata": {},
   "source": [
    "<a id='conclusions'></a>\n",
    "## Conclusions\n",
    "\n",
    "<b>Question 1:</b> At which hospitals are patients most likely to miss their appointment? Answer: at ITARARÉ, SANTA CECÍLIA, SANTA CLARA, and SANTOS DUMONT. Other hospitals have attendance rates that are much closer to the mean. <br>\n",
    "<b>Question 2:</b> Are any of the documented conditions (hypertension, diabetes, alcoholism, and handicap) more likely to result in a missed appointment? No; each of these conditions, individually, is actually likely to increase attendance. This is a surprising result because I would these conditions to cluster above and below the mean attendance ratio; instead they all have a lower ratio of missed-to-total appointments scheduled. Additional research might focus on whether a combination of more than one condition will decrease the attendance rate. <br>\n",
    "<b>Question 3:</b> Are patients more likely to miss appointments if they schedule too far in advance? No, not really. Those who miss their appointments and those who make their appointments have roughly the same distribution in appointment lead times. There is a difference in a couple of days, but I can't say whether that is significant, or whether it's practical to ask people to schedule an appointment two days earlier. <br>\n",
    "<b>Question 4:</b> How effective are SMS reminders at reducing missed appointments? They seem to be counterproductive, if their intent is to remind people to attend their appointment. Additional information is needed to explain this result, including why people are sent SMS messages, and the demographics of those who receive them.\n",
    "\n",
    "### Limitation\n",
    "None of these results have been tested for statistical significance; they are exploratory in nature. Results should not be used to determine whether an individual patient is likely to attend an appointment. In addition, none of these results imply causality; I have not concluded that having a medical condition or receiving no SMS communication is likely to increase a patient's likelyhood of attending an appointment.\n"
   ]
  },
  {
   "cell_type": "code",
   "execution_count": 51,
   "metadata": {},
   "outputs": [
    {
     "data": {
      "text/plain": [
       "4294967295"
      ]
     },
     "execution_count": 51,
     "metadata": {},
     "output_type": "execute_result"
    }
   ],
   "source": [
    "from subprocess import call\n",
    "call(['python', '-m', 'nbconvert', 'Investigate_a_Dataset.ipynb'])"
   ]
  },
  {
   "cell_type": "code",
   "execution_count": null,
   "metadata": {},
   "outputs": [],
   "source": []
  }
 ],
 "metadata": {
  "kernelspec": {
   "display_name": "Python 3 (ipykernel)",
   "language": "python",
   "name": "python3"
  },
  "language_info": {
   "codemirror_mode": {
    "name": "ipython",
    "version": 3
   },
   "file_extension": ".py",
   "mimetype": "text/x-python",
   "name": "python",
   "nbconvert_exporter": "python",
   "pygments_lexer": "ipython3",
   "version": "3.11.7"
  }
 },
 "nbformat": 4,
 "nbformat_minor": 4
}
